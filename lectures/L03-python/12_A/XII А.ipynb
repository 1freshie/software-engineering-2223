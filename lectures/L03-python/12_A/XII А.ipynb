{
 "cells": [
  {
   "cell_type": "code",
   "execution_count": 2,
   "id": "a9af62cd",
   "metadata": {},
   "outputs": [
    {
     "name": "stdout",
     "output_type": "stream",
     "text": [
      "Hello World!\n"
     ]
    }
   ],
   "source": [
    "print(\"Hello World!\")"
   ]
  },
  {
   "cell_type": "code",
   "execution_count": 4,
   "id": "71a30c74",
   "metadata": {},
   "outputs": [
    {
     "data": {
      "text/plain": [
       "11"
      ]
     },
     "execution_count": 4,
     "metadata": {},
     "output_type": "execute_result"
    }
   ],
   "source": [
    "def my_add(a: int, b: int) -> int:\n",
    "    return a + b\n",
    "\n",
    "\n",
    "my_add(5, 6)"
   ]
  },
  {
   "cell_type": "code",
   "execution_count": null,
   "id": "74578a84",
   "metadata": {},
   "outputs": [],
   "source": [
    "def my_add(a, b):\n",
    "    return a + b"
   ]
  },
  {
   "cell_type": "code",
   "execution_count": 5,
   "id": "0e7bc565",
   "metadata": {},
   "outputs": [
    {
     "data": {
      "text/plain": [
       "'abcefg'"
      ]
     },
     "execution_count": 5,
     "metadata": {},
     "output_type": "execute_result"
    }
   ],
   "source": [
    "my_add(\"abc\", \"efg\")"
   ]
  },
  {
   "cell_type": "code",
   "execution_count": 7,
   "id": "bd797a86",
   "metadata": {},
   "outputs": [
    {
     "data": {
      "text/plain": [
       "'efgabc'"
      ]
     },
     "execution_count": 7,
     "metadata": {},
     "output_type": "execute_result"
    }
   ],
   "source": [
    "my_add(b=\"abc\", a=\"efg\")"
   ]
  },
  {
   "cell_type": "code",
   "execution_count": 8,
   "id": "074f2fc8",
   "metadata": {},
   "outputs": [
    {
     "data": {
      "text/plain": [
       "'abcefg'"
      ]
     },
     "execution_count": 8,
     "metadata": {},
     "output_type": "execute_result"
    }
   ],
   "source": [
    "my_add(\"abc\", b=\"efg\")"
   ]
  },
  {
   "cell_type": "code",
   "execution_count": 9,
   "id": "8762986a",
   "metadata": {},
   "outputs": [
    {
     "ename": "SyntaxError",
     "evalue": "positional argument follows keyword argument (1097158460.py, line 1)",
     "output_type": "error",
     "traceback": [
      "\u001b[0;36m  File \u001b[0;32m\"/tmp/ipykernel_153659/1097158460.py\"\u001b[0;36m, line \u001b[0;32m1\u001b[0m\n\u001b[0;31m    my_add(a=\"abc\", \"efg\")\u001b[0m\n\u001b[0m                    ^\u001b[0m\n\u001b[0;31mSyntaxError\u001b[0m\u001b[0;31m:\u001b[0m positional argument follows keyword argument\n"
     ]
    }
   ],
   "source": [
    "my_add(a=\"abc\", \"efg\")"
   ]
  },
  {
   "cell_type": "code",
   "execution_count": 10,
   "id": "926e9210",
   "metadata": {},
   "outputs": [
    {
     "ename": "TypeError",
     "evalue": "my_add() got multiple values for argument 'a'",
     "output_type": "error",
     "traceback": [
      "\u001b[0;31m---------------------------------------------------------------------------\u001b[0m",
      "\u001b[0;31mTypeError\u001b[0m                                 Traceback (most recent call last)",
      "\u001b[0;32m/tmp/ipykernel_153659/3908405405.py\u001b[0m in \u001b[0;36m<module>\u001b[0;34m\u001b[0m\n\u001b[0;32m----> 1\u001b[0;31m \u001b[0mmy_add\u001b[0m\u001b[0;34m(\u001b[0m\u001b[0;34m\"abc\"\u001b[0m\u001b[0;34m,\u001b[0m \u001b[0ma\u001b[0m\u001b[0;34m=\u001b[0m\u001b[0;34m\"efg\"\u001b[0m\u001b[0;34m)\u001b[0m\u001b[0;34m\u001b[0m\u001b[0;34m\u001b[0m\u001b[0m\n\u001b[0m",
      "\u001b[0;31mTypeError\u001b[0m: my_add() got multiple values for argument 'a'"
     ]
    }
   ],
   "source": [
    "my_add(\"abc\", a=\"efg\")"
   ]
  },
  {
   "cell_type": "code",
   "execution_count": 12,
   "id": "9c488e65",
   "metadata": {},
   "outputs": [
    {
     "data": {
      "text/plain": [
       "11"
      ]
     },
     "execution_count": 12,
     "metadata": {},
     "output_type": "execute_result"
    }
   ],
   "source": [
    "def my_add(a, b = 0) -> int:\n",
    "    return a + b\n",
    "\n",
    "\n",
    "my_add(5, 6)"
   ]
  },
  {
   "cell_type": "code",
   "execution_count": 17,
   "id": "c6c63a37",
   "metadata": {},
   "outputs": [
    {
     "data": {
      "text/plain": [
       "15"
      ]
     },
     "execution_count": 17,
     "metadata": {},
     "output_type": "execute_result"
    }
   ],
   "source": [
    "def my_sum(a, *args):\n",
    "    res = a\n",
    "    for i in range(len(args)):\n",
    "        res += args[i]\n",
    "    return res\n",
    "\n",
    "my_sum(0, 1, 2, 3, 4, 5)\n",
    "\n",
    "# ==\n",
    "\n",
    "# def my_sum(a, args):\n",
    "#     return 0\n",
    "\n",
    "# my_sum(0, [1, 2, 3, 4, 5])"
   ]
  },
  {
   "cell_type": "markdown",
   "id": "dc63ba53",
   "metadata": {},
   "source": [
    "----"
   ]
  },
  {
   "cell_type": "code",
   "execution_count": 22,
   "id": "49f0fc1c",
   "metadata": {},
   "outputs": [
    {
     "name": "stdout",
     "output_type": "stream",
     "text": [
      "0\n",
      "1\n",
      "2\n"
     ]
    }
   ],
   "source": [
    "arr = [1, 2, 3]\n",
    "for i in range(len(arr)):\n",
    "    print(i)"
   ]
  },
  {
   "cell_type": "code",
   "execution_count": 23,
   "id": "0d8b3f7c",
   "metadata": {},
   "outputs": [
    {
     "name": "stdout",
     "output_type": "stream",
     "text": [
      "a\n",
      "b\n",
      "c\n"
     ]
    }
   ],
   "source": [
    "arr = [\"a\", \"b\", \"c\"]\n",
    "for i in arr:\n",
    "    print(i)"
   ]
  },
  {
   "cell_type": "code",
   "execution_count": 27,
   "id": "3fb50fe4",
   "metadata": {},
   "outputs": [
    {
     "name": "stdout",
     "output_type": "stream",
     "text": [
      "5\n",
      "6\n",
      "7\n",
      "8\n",
      "9\n"
     ]
    }
   ],
   "source": [
    "a = 5\n",
    "b = 10\n",
    "while a < b:\n",
    "    print(a)\n",
    "    a += 1"
   ]
  },
  {
   "cell_type": "code",
   "execution_count": 31,
   "id": "35156997",
   "metadata": {},
   "outputs": [],
   "source": [
    "None"
   ]
  },
  {
   "cell_type": "code",
   "execution_count": 4,
   "id": "e34f2fdc",
   "metadata": {},
   "outputs": [
    {
     "name": "stdout",
     "output_type": "stream",
     "text": [
      "[1, 2]\n",
      "[1, 2, 3, 4]\n",
      "[1, 4]\n",
      "[1, 2, 3, 4, 5, 6]\n",
      "[0, 1, 2, 3, 4, 5, 6]\n",
      "[7, 6, 5, 4, 3, 2, 1]\n"
     ]
    }
   ],
   "source": [
    "def my_range(start, end=None, step=1):\n",
    "    if end is None:\n",
    "        end = start\n",
    "        start = 0\n",
    "    my_list = []\n",
    "    \n",
    "    if step < 0:\n",
    "        while end<start:\n",
    "            my_list.append(start)\n",
    "            start += step\n",
    "    else:\n",
    "        while start < end:\n",
    "            my_list.append(start)\n",
    "            start += step\n",
    "    return my_list\n",
    "\n",
    "print(my_range(1,3,1))\n",
    "print(my_range(1,5,1))\n",
    "print(my_range(1,7,3))\n",
    "print(my_range(1,7))\n",
    "print(my_range(7))\n",
    "print(my_range(7, 0, -1))"
   ]
  },
  {
   "cell_type": "code",
   "execution_count": 5,
   "id": "f2bc3746",
   "metadata": {},
   "outputs": [
    {
     "name": "stdout",
     "output_type": "stream",
     "text": [
      "[7, 6, 5, 4, 3, 2, 1]\n"
     ]
    }
   ],
   "source": [
    "print(my_range(7, 0, -1))"
   ]
  },
  {
   "cell_type": "code",
   "execution_count": null,
   "id": "278e4522",
   "metadata": {},
   "outputs": [],
   "source": []
  },
  {
   "cell_type": "code",
   "execution_count": null,
   "id": "6b6afc1c",
   "metadata": {},
   "outputs": [],
   "source": [
    "if cond:\n",
    "    print(\"sdfsdf\")\n",
    "elif cond2:\n",
    "    print(\"sdfsf\")"
   ]
  }
 ],
 "metadata": {
  "kernelspec": {
   "display_name": "Python 3 (ipykernel)",
   "language": "python",
   "name": "python3"
  },
  "language_info": {
   "codemirror_mode": {
    "name": "ipython",
    "version": 3
   },
   "file_extension": ".py",
   "mimetype": "text/x-python",
   "name": "python",
   "nbconvert_exporter": "python",
   "pygments_lexer": "ipython3",
   "version": "3.8.10"
  }
 },
 "nbformat": 4,
 "nbformat_minor": 5
}
