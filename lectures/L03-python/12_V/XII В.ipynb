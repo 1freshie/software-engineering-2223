{
 "cells": [
  {
   "cell_type": "code",
   "execution_count": 1,
   "id": "43676ea0",
   "metadata": {},
   "outputs": [
    {
     "name": "stdout",
     "output_type": "stream",
     "text": [
      "HEllo WOrld\n"
     ]
    }
   ],
   "source": [
    "print(\"HEllo WOrld\")"
   ]
  },
  {
   "cell_type": "code",
   "execution_count": 7,
   "id": "2272c155",
   "metadata": {},
   "outputs": [
    {
     "name": "stdout",
     "output_type": "stream",
     "text": [
      "Python 3.8.10\r\n"
     ]
    }
   ],
   "source": [
    "!python3 --version"
   ]
  },
  {
   "cell_type": "code",
   "execution_count": 8,
   "id": "5b97a433",
   "metadata": {},
   "outputs": [
    {
     "data": {
      "text/plain": [
       "11"
      ]
     },
     "execution_count": 8,
     "metadata": {},
     "output_type": "execute_result"
    }
   ],
   "source": [
    "def my_add(a, b):\n",
    "    return a + b\n",
    "\n",
    "my_add(5, 6)"
   ]
  },
  {
   "cell_type": "code",
   "execution_count": 18,
   "id": "2b3a8375",
   "metadata": {},
   "outputs": [
    {
     "data": {
      "text/plain": [
       "5"
      ]
     },
     "execution_count": 18,
     "metadata": {},
     "output_type": "execute_result"
    }
   ],
   "source": [
    "def my_add(a, b=0):\n",
    "    return a + b\n",
    "\n",
    "my_add(5)"
   ]
  },
  {
   "cell_type": "code",
   "execution_count": 10,
   "id": "70afec7a",
   "metadata": {},
   "outputs": [
    {
     "data": {
      "text/plain": [
       "15"
      ]
     },
     "execution_count": 10,
     "metadata": {},
     "output_type": "execute_result"
    }
   ],
   "source": [
    "my_add(5, 10)"
   ]
  },
  {
   "cell_type": "code",
   "execution_count": 11,
   "id": "22a03b84",
   "metadata": {},
   "outputs": [
    {
     "data": {
      "text/plain": [
       "15"
      ]
     },
     "execution_count": 11,
     "metadata": {},
     "output_type": "execute_result"
    }
   ],
   "source": [
    "my_add(a=5, b=10)"
   ]
  },
  {
   "cell_type": "code",
   "execution_count": 12,
   "id": "7f24e4c7",
   "metadata": {},
   "outputs": [
    {
     "data": {
      "text/plain": [
       "15"
      ]
     },
     "execution_count": 12,
     "metadata": {},
     "output_type": "execute_result"
    }
   ],
   "source": [
    "my_add(b=5, a=10)"
   ]
  },
  {
   "cell_type": "code",
   "execution_count": 19,
   "id": "3b799963",
   "metadata": {},
   "outputs": [
    {
     "data": {
      "text/plain": [
       "15"
      ]
     },
     "execution_count": 19,
     "metadata": {},
     "output_type": "execute_result"
    }
   ],
   "source": [
    "my_add(5, b=10)"
   ]
  },
  {
   "cell_type": "code",
   "execution_count": 20,
   "id": "78112fa8",
   "metadata": {},
   "outputs": [
    {
     "ename": "TypeError",
     "evalue": "my_add() got multiple values for argument 'a'",
     "output_type": "error",
     "traceback": [
      "\u001b[0;31m---------------------------------------------------------------------------\u001b[0m",
      "\u001b[0;31mTypeError\u001b[0m                                 Traceback (most recent call last)",
      "\u001b[0;32m/tmp/ipykernel_2741/643684890.py\u001b[0m in \u001b[0;36m<module>\u001b[0;34m\u001b[0m\n\u001b[0;32m----> 1\u001b[0;31m \u001b[0mmy_add\u001b[0m\u001b[0;34m(\u001b[0m\u001b[0;36m5\u001b[0m\u001b[0;34m,\u001b[0m \u001b[0ma\u001b[0m\u001b[0;34m=\u001b[0m\u001b[0;36m10\u001b[0m\u001b[0;34m)\u001b[0m\u001b[0;34m\u001b[0m\u001b[0;34m\u001b[0m\u001b[0m\n\u001b[0m",
      "\u001b[0;31mTypeError\u001b[0m: my_add() got multiple values for argument 'a'"
     ]
    }
   ],
   "source": [
    "my_add(5, a=10)"
   ]
  },
  {
   "cell_type": "code",
   "execution_count": 21,
   "id": "55266010",
   "metadata": {},
   "outputs": [
    {
     "ename": "SyntaxError",
     "evalue": "positional argument follows keyword argument (970279340.py, line 1)",
     "output_type": "error",
     "traceback": [
      "\u001b[0;36m  File \u001b[0;32m\"/tmp/ipykernel_2741/970279340.py\"\u001b[0;36m, line \u001b[0;32m1\u001b[0m\n\u001b[0;31m    my_add(a=10, 5)\u001b[0m\n\u001b[0m                 ^\u001b[0m\n\u001b[0;31mSyntaxError\u001b[0m\u001b[0;31m:\u001b[0m positional argument follows keyword argument\n"
     ]
    }
   ],
   "source": [
    "my_add(a=10, 5)"
   ]
  },
  {
   "cell_type": "code",
   "execution_count": 23,
   "id": "57ffa47d",
   "metadata": {},
   "outputs": [
    {
     "data": {
      "text/plain": [
       "11"
      ]
     },
     "execution_count": 23,
     "metadata": {},
     "output_type": "execute_result"
    }
   ],
   "source": [
    "# python > 3.8\n",
    "def my_add(a: int, b: int) -> int:\n",
    "    return a + b\n",
    "\n",
    "my_add(5, 6)"
   ]
  },
  {
   "cell_type": "code",
   "execution_count": 25,
   "id": "2886611b",
   "metadata": {},
   "outputs": [
    {
     "name": "stdout",
     "output_type": "stream",
     "text": [
      "123456\n"
     ]
    }
   ],
   "source": [
    "print(my_add(\"123\", \"456\"))"
   ]
  },
  {
   "cell_type": "code",
   "execution_count": 26,
   "id": "566f501a",
   "metadata": {},
   "outputs": [
    {
     "name": "stdout",
     "output_type": "stream",
     "text": [
      "30\n",
      "1\n",
      "28\n"
     ]
    }
   ],
   "source": [
    "def my_sum(a, *args):\n",
    "    res = a\n",
    "    for i in range(len(args)):\n",
    "        res += args[i]\n",
    "    return res\n",
    "\n",
    "print(my_sum(5, 10, 15))\n",
    "print(my_sum(1))\n",
    "print(my_sum(1, 2, 3, 4, 5, 6, 7))\n",
    "# print(my_sum())"
   ]
  },
  {
   "cell_type": "code",
   "execution_count": 28,
   "id": "00717bdc",
   "metadata": {},
   "outputs": [
    {
     "name": "stdout",
     "output_type": "stream",
     "text": [
      "30\n",
      "1\n",
      "28\n"
     ]
    }
   ],
   "source": [
    "def my_sum(a, args):\n",
    "    res = a\n",
    "    for i in range(len(args)):\n",
    "        res += args[i]\n",
    "    return res\n",
    "\n",
    "print(my_sum(5, [10, 15]))\n",
    "print(my_sum(1, []))\n",
    "print(my_sum(1, [2, 3, 4, 5, 6, 7]))\n",
    "# print(my_sum())"
   ]
  },
  {
   "cell_type": "code",
   "execution_count": 29,
   "id": "417c4f8e",
   "metadata": {},
   "outputs": [],
   "source": [
    "arr = []\n",
    "arr = [1, 2, 3]"
   ]
  },
  {
   "cell_type": "code",
   "execution_count": 33,
   "id": "3b36de33",
   "metadata": {},
   "outputs": [],
   "source": [
    "arr = [0, 1, 2, 3] * 50"
   ]
  },
  {
   "cell_type": "code",
   "execution_count": 35,
   "id": "56b9ff4f",
   "metadata": {},
   "outputs": [
    {
     "data": {
      "text/plain": [
       "200"
      ]
     },
     "execution_count": 35,
     "metadata": {},
     "output_type": "execute_result"
    }
   ],
   "source": [
    "len(arr)"
   ]
  },
  {
   "cell_type": "code",
   "execution_count": 36,
   "id": "67df0354",
   "metadata": {},
   "outputs": [
    {
     "name": "stdout",
     "output_type": "stream",
     "text": [
      "201\n"
     ]
    }
   ],
   "source": [
    "arr.append(999)\n",
    "print(len(arr))"
   ]
  },
  {
   "cell_type": "code",
   "execution_count": 37,
   "id": "d6468246",
   "metadata": {},
   "outputs": [],
   "source": [
    "a = [1, \"abc\", 3.14]"
   ]
  },
  {
   "cell_type": "code",
   "execution_count": 38,
   "id": "10b1d7d7",
   "metadata": {},
   "outputs": [
    {
     "data": {
      "text/plain": [
       "[1, 'abc', 3.14]"
      ]
     },
     "execution_count": 38,
     "metadata": {},
     "output_type": "execute_result"
    }
   ],
   "source": [
    "a"
   ]
  },
  {
   "cell_type": "code",
   "execution_count": 39,
   "id": "aecc034e",
   "metadata": {},
   "outputs": [],
   "source": [
    "num = 9999999999999999999999999999999999999999999999999999999999999999999999999999999999"
   ]
  },
  {
   "cell_type": "code",
   "execution_count": 40,
   "id": "c89ea2e8",
   "metadata": {},
   "outputs": [
    {
     "data": {
      "text/plain": [
       "9999999999999999999999999999999999999999999999999999999999999999999999999999999999"
      ]
     },
     "execution_count": 40,
     "metadata": {},
     "output_type": "execute_result"
    }
   ],
   "source": [
    "num"
   ]
  },
  {
   "cell_type": "code",
   "execution_count": 44,
   "id": "c1bae659",
   "metadata": {},
   "outputs": [],
   "source": [
    "num = 2 ** 128"
   ]
  },
  {
   "cell_type": "code",
   "execution_count": 45,
   "id": "5feab848",
   "metadata": {},
   "outputs": [
    {
     "data": {
      "text/plain": [
       "340282366920938463463374607431768211456"
      ]
     },
     "execution_count": 45,
     "metadata": {},
     "output_type": "execute_result"
    }
   ],
   "source": [
    "num"
   ]
  },
  {
   "cell_type": "code",
   "execution_count": 46,
   "id": "475eb061",
   "metadata": {},
   "outputs": [
    {
     "data": {
      "text/plain": [
       "1.5"
      ]
     },
     "execution_count": 46,
     "metadata": {},
     "output_type": "execute_result"
    }
   ],
   "source": [
    "3 / 2"
   ]
  },
  {
   "cell_type": "code",
   "execution_count": 47,
   "id": "9ba121ae",
   "metadata": {},
   "outputs": [
    {
     "data": {
      "text/plain": [
       "1"
      ]
     },
     "execution_count": 47,
     "metadata": {},
     "output_type": "execute_result"
    }
   ],
   "source": [
    "3 // 2"
   ]
  },
  {
   "cell_type": "code",
   "execution_count": 48,
   "id": "5fc3ec68",
   "metadata": {},
   "outputs": [],
   "source": [
    "None"
   ]
  },
  {
   "cell_type": "code",
   "execution_count": null,
   "id": "70c6f31b",
   "metadata": {},
   "outputs": [],
   "source": [
    "def is_none(a, b):\n",
    "    if a == b:\n",
    "    if (a is None) or (b is not None):\n",
    "        "
   ]
  },
  {
   "cell_type": "code",
   "execution_count": null,
   "id": "decead40",
   "metadata": {},
   "outputs": [],
   "source": [
    "True\n",
    "False"
   ]
  },
  {
   "cell_type": "markdown",
   "id": "1b3114a4",
   "metadata": {},
   "source": [
    "---"
   ]
  },
  {
   "cell_type": "code",
   "execution_count": 49,
   "id": "004cc1a3",
   "metadata": {},
   "outputs": [
    {
     "ename": "NameError",
     "evalue": "name 'not_defined' is not defined",
     "output_type": "error",
     "traceback": [
      "\u001b[0;31m---------------------------------------------------------------------------\u001b[0m",
      "\u001b[0;31mNameError\u001b[0m                                 Traceback (most recent call last)",
      "\u001b[0;32m/tmp/ipykernel_2741/1468567206.py\u001b[0m in \u001b[0;36m<module>\u001b[0;34m\u001b[0m\n\u001b[0;32m----> 1\u001b[0;31m \u001b[0mprint\u001b[0m\u001b[0;34m(\u001b[0m\u001b[0mnot_defined\u001b[0m\u001b[0;34m)\u001b[0m\u001b[0;34m\u001b[0m\u001b[0;34m\u001b[0m\u001b[0m\n\u001b[0m",
      "\u001b[0;31mNameError\u001b[0m: name 'not_defined' is not defined"
     ]
    }
   ],
   "source": [
    "print(not_defined)"
   ]
  },
  {
   "cell_type": "code",
   "execution_count": 56,
   "id": "7cdbea8c",
   "metadata": {},
   "outputs": [
    {
     "ename": "NameError",
     "evalue": "name 'not_defined' is not defined",
     "output_type": "error",
     "traceback": [
      "\u001b[0;31m---------------------------------------------------------------------------\u001b[0m",
      "\u001b[0;31mNameError\u001b[0m                                 Traceback (most recent call last)",
      "\u001b[0;32m/tmp/ipykernel_2741/2602119853.py\u001b[0m in \u001b[0;36m<module>\u001b[0;34m\u001b[0m\n\u001b[0;32m----> 1\u001b[0;31m \u001b[0mnot_defined\u001b[0m\u001b[0;34m\u001b[0m\u001b[0;34m\u001b[0m\u001b[0m\n\u001b[0m\u001b[1;32m      2\u001b[0m \u001b[0mprint\u001b[0m\u001b[0;34m(\u001b[0m\u001b[0mnot_defined\u001b[0m\u001b[0;34m)\u001b[0m\u001b[0;34m\u001b[0m\u001b[0;34m\u001b[0m\u001b[0m\n",
      "\u001b[0;31mNameError\u001b[0m: name 'not_defined' is not defined"
     ]
    }
   ],
   "source": [
    "not_defined\n",
    "print(not_defined)"
   ]
  },
  {
   "cell_type": "code",
   "execution_count": 58,
   "id": "7cc45da7",
   "metadata": {},
   "outputs": [
    {
     "name": "stdout",
     "output_type": "stream",
     "text": [
      "None\n"
     ]
    }
   ],
   "source": [
    "defined = None\n",
    "print(defined)"
   ]
  },
  {
   "cell_type": "code",
   "execution_count": null,
   "id": "f778fd5f",
   "metadata": {},
   "outputs": [],
   "source": [
    "if cond:\n",
    "    block\n",
    "else:\n",
    "    block\n",
    "    \n",
    "if cond1:\n",
    "    block1\n",
    "elif cond2:\n",
    "    block2\n",
    "else:\n",
    "    block3"
   ]
  },
  {
   "cell_type": "code",
   "execution_count": null,
   "id": "68a3ee1e",
   "metadata": {},
   "outputs": [],
   "source": [
    "while cond:\n",
    "    block"
   ]
  },
  {
   "cell_type": "code",
   "execution_count": 59,
   "id": "a06f6088",
   "metadata": {},
   "outputs": [
    {
     "name": "stdout",
     "output_type": "stream",
     "text": [
      "a\n",
      "b\n",
      "c\n"
     ]
    }
   ],
   "source": [
    "arr = [\"a\", \"b\", \"c\"]\n",
    "for i in arr:\n",
    "    print(i)"
   ]
  },
  {
   "cell_type": "code",
   "execution_count": 61,
   "id": "f6877b0c",
   "metadata": {},
   "outputs": [
    {
     "name": "stdout",
     "output_type": "stream",
     "text": [
      "a\n",
      "b\n",
      "c\n"
     ]
    }
   ],
   "source": [
    "for i in range(0, len(arr), 1):\n",
    "    print(arr[i])"
   ]
  },
  {
   "cell_type": "code",
   "execution_count": 64,
   "id": "21d486b8",
   "metadata": {},
   "outputs": [
    {
     "name": "stdout",
     "output_type": "stream",
     "text": [
      "5\n",
      "7\n",
      "9\n"
     ]
    }
   ],
   "source": [
    "for i in range(5, 10, 2):\n",
    "    print(i)"
   ]
  },
  {
   "cell_type": "code",
   "execution_count": 65,
   "id": "12c26b9e",
   "metadata": {},
   "outputs": [
    {
     "name": "stdout",
     "output_type": "stream",
     "text": [
      "5\n",
      "6\n",
      "7\n",
      "8\n",
      "9\n"
     ]
    }
   ],
   "source": [
    "for i in range(5, 10):\n",
    "    print(i)"
   ]
  },
  {
   "cell_type": "code",
   "execution_count": 66,
   "id": "7085ac49",
   "metadata": {},
   "outputs": [
    {
     "name": "stdout",
     "output_type": "stream",
     "text": [
      "0\n",
      "1\n",
      "2\n",
      "3\n",
      "4\n",
      "5\n",
      "6\n",
      "7\n",
      "8\n",
      "9\n"
     ]
    }
   ],
   "source": [
    "for i in range(10):\n",
    "    print(i)"
   ]
  },
  {
   "cell_type": "code",
   "execution_count": 67,
   "id": "5971dee8",
   "metadata": {},
   "outputs": [
    {
     "name": "stdout",
     "output_type": "stream",
     "text": [
      "0\n",
      "1\n",
      "2\n"
     ]
    }
   ],
   "source": [
    "for i in range(len(arr)):\n",
    "    print(i)"
   ]
  },
  {
   "cell_type": "markdown",
   "id": "c641ff13",
   "metadata": {},
   "source": [
    "---"
   ]
  },
  {
   "cell_type": "code",
   "execution_count": null,
   "id": "08563c9a",
   "metadata": {},
   "outputs": [],
   "source": [
    "my_range(0, 5, 1) == [0, 1, 2, 3, 4]"
   ]
  },
  {
   "cell_type": "code",
   "execution_count": null,
   "id": "8c325387",
   "metadata": {},
   "outputs": [],
   "source": [
    "def my_range(start: int, end: int = None, step: int = 1) -> list:\n",
    "    res = []\n",
    "    \n",
    "    if end is None:\n",
    "        end = start\n",
    "        start = 0 \n",
    "    \n",
    "    if(start > end and step > 0):\n",
    "        return []\n",
    "    \n",
    "    i = start\n",
    "    while  i <"
   ]
  },
  {
   "cell_type": "code",
   "execution_count": 10,
   "id": "0f8cf898",
   "metadata": {},
   "outputs": [
    {
     "name": "stdout",
     "output_type": "stream",
     "text": [
      "[0, 1, 2, 3, 4, 5]\n",
      "[0, 1, 2, 3, 4, 5]\n",
      "[0, 1, 2, 3, 4, 5]\n",
      "[5, 4, 3, 2, 1, 0]\n",
      "[5, 3, 1]\n",
      "[0, 2, 4]\n"
     ]
    }
   ],
   "source": [
    "def my_range(start: int, end: int = None, step: int = 1) -> list:\n",
    "    res = []\n",
    "    \n",
    "    if end is None:\n",
    "        end = start\n",
    "        start = 0 \n",
    "    \n",
    "    if(start > end and step > 0):\n",
    "        return []\n",
    "    \n",
    "    i = start\n",
    "    if step < 0:\n",
    "        while i >= end:\n",
    "            res.append(i)\n",
    "            i += step\n",
    "    else:\n",
    "        while i <= end:\n",
    "            res.append(i)\n",
    "            i += step\n",
    "    \n",
    "    \n",
    "    \n",
    "    \n",
    "    return res\n",
    "\n",
    "print(my_range(0, 5, 1))\n",
    "print(my_range(0, 5))\n",
    "print(my_range(5))\n",
    "print(my_range(5, 0, -1))\n",
    "print(my_range(5, 0, -2))\n",
    "print(my_range(0, 5, 2))"
   ]
  },
  {
   "cell_type": "code",
   "execution_count": 2,
   "id": "ca458056",
   "metadata": {},
   "outputs": [
    {
     "name": "stdout",
     "output_type": "stream",
     "text": [
      "10\n",
      "9\n",
      "8\n",
      "7\n",
      "6\n",
      "5\n",
      "4\n",
      "3\n",
      "2\n",
      "1\n"
     ]
    }
   ],
   "source": [
    "for i in range(10, 0, -1):\n",
    "    print(i)"
   ]
  },
  {
   "cell_type": "code",
   "execution_count": 84,
   "id": "2a5adae4",
   "metadata": {},
   "outputs": [],
   "source": [
    "for i in range(10, 0, 1):\n",
    "    print(i)"
   ]
  },
  {
   "cell_type": "code",
   "execution_count": null,
   "id": "79152a36",
   "metadata": {},
   "outputs": [],
   "source": []
  }
 ],
 "metadata": {
  "kernelspec": {
   "display_name": "Python 3 (ipykernel)",
   "language": "python",
   "name": "python3"
  },
  "language_info": {
   "codemirror_mode": {
    "name": "ipython",
    "version": 3
   },
   "file_extension": ".py",
   "mimetype": "text/x-python",
   "name": "python",
   "nbconvert_exporter": "python",
   "pygments_lexer": "ipython3",
   "version": "3.8.10"
  }
 },
 "nbformat": 4,
 "nbformat_minor": 5
}
